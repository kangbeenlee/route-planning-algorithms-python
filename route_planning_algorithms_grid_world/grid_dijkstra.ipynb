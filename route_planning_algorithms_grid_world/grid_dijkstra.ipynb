{
 "cells": [
  {
   "cell_type": "code",
   "execution_count": 253,
   "metadata": {
    "colab": {
     "base_uri": "https://localhost:8080/",
     "height": 53
    },
    "id": "6HibwTOPJYn5",
    "outputId": "84d67aaf-cb69-42a5-b16b-4244f06e22f7"
   },
   "outputs": [
    {
     "data": {
      "text/plain": [
       "'\\n<<수정사항>>\\n1. class 객체의 주소 활용\\n2. visited, prev, distance도 class로 부여\\n   - bi-dijkstra에서는 visited를 list로 만드는게 좋지 않을까 생각...\\n3.Dijkstra with priority queue\\n\\n4.Bi-dijsktra 문제해결\\n   - bi-priority queue를 사용했을때, adjacent node 탐색 후 비교\\n\\nGrid figure 만들기\\n\\n** execution time 측정\\n\\n'"
      ]
     },
     "execution_count": 253,
     "metadata": {},
     "output_type": "execute_result"
    }
   ],
   "source": [
    "\"\"\"\n",
    "<<수정사항>>\n",
    "1. class 객체의 주소 활용\n",
    "2. visited, prev, distance도 class로 부여\n",
    "   - bi-dijkstra에서는 visited를 list로 만드는게 좋지 않을까 생각...\n",
    "3.Dijkstra with priority queue\n",
    "\n",
    "4.Bi-dijsktra 문제해결\n",
    "   - bi-priority queue를 사용했을때, adjacent node 탐색 후 비교\n",
    "\n",
    "Grid figure 만들기\n",
    "\n",
    "** execution time 측정\n",
    "\n",
    "\"\"\""
   ]
  },
  {
   "cell_type": "code",
   "execution_count": 254,
   "metadata": {
    "id": "obnSqpaEhSsV"
   },
   "outputs": [],
   "source": [
    "import numpy as np\n",
    "import time\n",
    "from math import inf\n",
    "import matplotlib.pyplot as plt\n",
    "import random\n",
    "import sys"
   ]
  },
  {
   "cell_type": "code",
   "execution_count": 255,
   "metadata": {
    "id": "carqmy5WgXBt"
   },
   "outputs": [],
   "source": [
    "# Classic Dijkstra\n",
    "class vertex_maker:\n",
    "    def __init__(self, node):\n",
    "        self.id = node\n",
    "        self.adjacent = {}\n",
    "        self.distance = inf\n",
    "        self.visited = False\n",
    "        self.prev = None\n",
    "        self.row = None\n",
    "        self.col = None\n",
    "    \n",
    "    def add_neighbor(self, neighbor, weight=0):\n",
    "        self.adjacent[neighbor] = weight\n",
    "        \n",
    "    def get_weight(self, neighbor):\n",
    "        return self.adjacent[neighbor]\n",
    "    \n",
    "class Graph_maker:\n",
    "    def __init__(self):\n",
    "        self.vert_dict = {}\n",
    "        \n",
    "    def add_vertex(self, node):\n",
    "        new_node = vertex_maker(node)\n",
    "        self.vert_dict[node] = new_node\n",
    "    \n",
    "    def add_edges(self, frm, to, cost=0):\n",
    "        self.vert_dict[frm].add_neighbor(self.vert_dict[to], cost)\n",
    "        self.vert_dict[to].add_neighbor(self.vert_dict[frm], cost)\n",
    "\n",
    "# define graph        \n",
    "g = Graph_maker()\n",
    "\n",
    "# add vertex\n",
    "# 10x10 grid vertex\n",
    "for i in range(100):\n",
    "    g.add_vertex(i)\n",
    "\n",
    "# add position to vertex\n",
    "for i in range(10):\n",
    "    for j in range(10):\n",
    "        g.vert_dict[10*i+j].row = i\n",
    "        g.vert_dict[10*i+j].col = j\n",
    "\n",
    "# add cost btw vertx\n",
    "for j in range(1,9):\n",
    "    for i in range(1,9):\n",
    "        g.add_edges(10*j+i, 10*j+i-10, 1)\n",
    "        g.add_edges(10*j+i, 10*j+i-1,  1)\n",
    "        g.add_edges(10*j+i, 10*j+i+1,  1)\n",
    "        g.add_edges(10*j+i, 10*j+i+10, 1)\n",
    "\n",
    "for i in range(9):\n",
    "    g.add_edges(i, i+1, 1) # 1st row\n",
    "    g.add_edges(90+i, 90+i+1, 1) # 10th row\n",
    "    g.add_edges(i*10,(i+1)*10, 1) # 1st column\n",
    "    g.add_edges(i*10+9,(i+1)*10+9, 1) # 10th column"
   ]
  },
  {
   "cell_type": "code",
   "execution_count": 256,
   "metadata": {
    "id": "b9KLuQS1tpxC"
   },
   "outputs": [],
   "source": [
    "def obstacle_gen(num, start, target):\n",
    "    print(\">>> Obstacle nodes\")\n",
    "    del_node_list = []\n",
    "    while len(del_node_list) != num:\n",
    "        node = random.randint(0,99)\n",
    "        if start == node: continue\n",
    "        if target == node: continue\n",
    "        if node in del_node_list: continue\n",
    "        del_node_list.append(node)\n",
    "\n",
    "        print(node, end=\" \")\n",
    "\n",
    "        # plot obstacle\n",
    "        node_self = g.vert_dict[node]\n",
    "        plt.plot(node_self.row, node_self.col, \"ks\", markersize=40)\n",
    "\n",
    "        # delete the link from near node\n",
    "        try:\n",
    "            del g.vert_dict[node-1].adjacent[node_self]\n",
    "        except KeyError:\n",
    "            pass\n",
    "        try:\n",
    "            del g.vert_dict[node+1].adjacent[node_self]\n",
    "        except KeyError:\n",
    "            pass\n",
    "        try:\n",
    "            del g.vert_dict[node+10].adjacent[node_self]\n",
    "        except KeyError:\n",
    "            pass\n",
    "        try:\n",
    "            del g.vert_dict[node-10].adjacent[node_self]\n",
    "        except KeyError:\n",
    "            pass \n",
    "\n",
    "        # delete node itself\n",
    "        del g.vert_dict[node]"
   ]
  },
  {
   "cell_type": "code",
   "execution_count": 257,
   "metadata": {
    "id": "gdshlfoQJYn8"
   },
   "outputs": [],
   "source": [
    "def dijkstra(Graph, start, target, num_obstacle):\n",
    "    # Initialize for implementation\n",
    "    for i in g.vert_dict.values():\n",
    "        i.visited = False\n",
    "        i.distance = inf    \n",
    "\n",
    "    start = g.vert_dict[start]\n",
    "    target = g.vert_dict[target]\n",
    "\n",
    "    # plot grid\n",
    "    plt.figure(figsize=(6,6))\n",
    "    plt.xlim(-1,10)\n",
    "    plt.ylim(-1,10)\n",
    "    plt.grid()\n",
    "    plt.plot(start.row, start.col, \"ko\")\n",
    "\n",
    "    # generate obstacle\n",
    "    obstacle_gen(num_obstacle, start.id, target.id)\n",
    "\n",
    "    start_time = time.time()\n",
    "\n",
    "    # Initialize start node\n",
    "    start.distance = 0\n",
    "    start.prev = -1\n",
    "    start.visited = True\n",
    "\n",
    "    current = start\n",
    "    state = 0\n",
    "\n",
    "    while current != target:\n",
    "        # update state\n",
    "        state += 1\n",
    "        # escape from inf.loop\n",
    "        if state > 999:\n",
    "            print(\"\\n\")\n",
    "            sys.exit(\">>> Impossible to generate path\")\n",
    "        \n",
    "        for near_vtx, near_vtx_cost in current.adjacent.items():\n",
    "            if near_vtx.visited == True: continue\n",
    "            if near_vtx.distance > current.distance + near_vtx_cost:\n",
    "                near_vtx.distance = current.distance + near_vtx_cost\n",
    "                near_vtx.prev = current\n",
    "        \n",
    "        # 인접노드 중에서 visited node는 제외하고 cost가 가장 작은 node를 current node로 update\n",
    "        cost = 9999\n",
    "        for node in g.vert_dict.values():\n",
    "            if node.visited == True: continue\n",
    "                \n",
    "            if node.distance < cost:\n",
    "                cost = node.distance\n",
    "                current = node\n",
    "        \n",
    "        current.visited = True\n",
    "        plt.plot(current.row, current.col, \"bo\")\n",
    "\n",
    "    execution_time = time.time() - start_time\n",
    "    \n",
    "    # shortest path\n",
    "    path = [current.id]\n",
    "    plt.plot(current.row, current.col, \"rs\")      \n",
    "    while current != start:\n",
    "        current = current.prev\n",
    "        path.append(current.id)\n",
    "        plt.plot(current.row, current.col, \"rs\")\n",
    "    path.reverse()\n",
    "\n",
    "    print(\"\\n\")\n",
    "    print(\">>> Shortest Path from {} to {} is:\".format(start.id, target.id), path, \"\\n\"\n",
    "          \">>> distance cost is:\", target.distance)\n",
    "    print(\">>> #iteration: \", state)\n",
    "    print(\">>> execution time: \",execution_time)"
   ]
  },
  {
   "cell_type": "code",
   "execution_count": 258,
   "metadata": {
    "colab": {
     "base_uri": "https://localhost:8080/",
     "height": 504
    },
    "id": "D2tv5cxPHoVJ",
    "outputId": "b2920379-c028-49be-b635-d1f4ac54b64f"
   },
   "outputs": [
    {
     "name": "stdout",
     "output_type": "stream",
     "text": [
      ">>> Obstacle nodes\n",
      "84 51 76 24 41 95 75 9 62 20 74 66 82 59 43 63 81 49 27 25 \n",
      "\n",
      ">>> Shortest Path from 0 to 99 is: [0, 1, 2, 3, 4, 5, 6, 7, 8, 18, 28, 38, 48, 58, 68, 69, 79, 89, 99] \n",
      ">>> distance cost is: 18\n",
      ">>> #iteration:  79\n",
      ">>> execution time:  0.03969144821166992\n"
     ]
    },
    {
     "data": {
      "image/png": "[encoded data removed]",
      "text/plain": [
       "<Figure size 432x432 with 1 Axes>"
      ]
     },
     "metadata": {
      "needs_background": "light"
     },
     "output_type": "display_data"
    }
   ],
   "source": [
    "# dijkstra(Graph, start, target, #obstacle)\n",
    "dijkstra(g, 0, 99, 20)"
   ]
  }
 ],
 "metadata": {
  "colab": {
   "collapsed_sections": [],
   "name": "Dijkstra_with_grid.ipynb",
   "provenance": []
  },
  "kernelspec": {
   "display_name": "Python 3",
   "language": "python",
   "name": "python3"
  },
  "language_info": {
   "codemirror_mode": {
    "name": "ipython",
    "version": 3
   },
   "file_extension": ".py",
   "mimetype": "text/x-python",
   "name": "python",
   "nbconvert_exporter": "python",
   "pygments_lexer": "ipython3",
   "version": "3.6.9"
  }
 },
 "nbformat": 4,
 "nbformat_minor": 1
}
