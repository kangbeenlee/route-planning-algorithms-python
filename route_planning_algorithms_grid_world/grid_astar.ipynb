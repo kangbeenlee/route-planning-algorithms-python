{
 "cells": [
  {
   "cell_type": "code",
   "execution_count": 11,
   "metadata": {
    "id": "obnSqpaEhSsV"
   },
   "outputs": [],
   "source": [
    "import numpy as np\n",
    "import time\n",
    "from math import inf\n",
    "import matplotlib.pyplot as plt\n",
    "import random"
   ]
  },
  {
   "cell_type": "code",
   "execution_count": 12,
   "metadata": {
    "id": "carqmy5WgXBt"
   },
   "outputs": [],
   "source": [
    "# A_star algorithm with admissibiliy\n",
    "class vertex_maker:\n",
    "    def __init__(self, node):\n",
    "        self.id = node\n",
    "        self.adjacent = {}\n",
    "        self.g_score = inf\n",
    "        self.f_score = inf\n",
    "        self.prev = None\n",
    "        self.heuristic = None\n",
    "        self.row = None\n",
    "        self.col = None\n",
    "\n",
    "    def add_neighbor(self, neighbor, weight=0):\n",
    "        self.adjacent[neighbor] = weight\n",
    "        \n",
    "    def get_weight(self, neighbor):\n",
    "        return self.adjacent[neighbor]\n",
    "    \n",
    "class Graph_maker:\n",
    "    def __init__(self):\n",
    "        self.vert_dict = {}\n",
    "        self.open_lst = {}\n",
    "        self.closed_lst = []\n",
    "        \n",
    "    def add_vertex(self, node):\n",
    "        new_node = vertex_maker(node)\n",
    "        self.vert_dict[node] = new_node\n",
    "    \n",
    "    def add_edges(self, frm, to, cost=0):\n",
    "        self.vert_dict[frm].add_neighbor(self.vert_dict[to], cost)\n",
    "        self.vert_dict[to].add_neighbor(self.vert_dict[frm], cost)\n",
    "\n",
    "# calculate heuristic\n",
    "def heuristic(frm, to):\n",
    "    return np.sqrt((frm.row-to.row)**2 + (frm.col-to.col)**2)\n",
    "\n",
    "# define graph        \n",
    "g = Graph_maker()\n",
    "\n",
    "# add vertex\n",
    "# 10x10 grid vertex\n",
    "for i in range(100):\n",
    "    g.add_vertex(i)\n",
    "\n",
    "# add position to vertex\n",
    "for i in range(10):\n",
    "    for j in range(10):\n",
    "        g.vert_dict[10*i+j].row = i\n",
    "        g.vert_dict[10*i+j].col = j\n",
    "\n",
    "# add cost btw vertx\n",
    "for j in range(1,9):\n",
    "    for i in range(1,9):\n",
    "        g.add_edges(10*j+i, 10*j+i-10, 1)\n",
    "        g.add_edges(10*j+i, 10*j+i-1,  1)\n",
    "        g.add_edges(10*j+i, 10*j+i+1,  1)\n",
    "        g.add_edges(10*j+i, 10*j+i+10, 1)\n",
    "\n",
    "for i in range(9):\n",
    "    g.add_edges(i, i+1, 1) # 1st row\n",
    "    g.add_edges(90+i, 90+i+1, 1) # 10th row\n",
    "    g.add_edges(i*10,(i+1)*10, 1) # 1st column\n",
    "    g.add_edges(i*10+9,(i+1)*10+9, 1) # 10th column"
   ]
  },
  {
   "cell_type": "code",
   "execution_count": 13,
   "metadata": {
    "id": "ZbP88DxCo-PE"
   },
   "outputs": [],
   "source": [
    "def obstacle_gen(num, start, target):\n",
    "    print(\">>> Obstacle nodes\")\n",
    "    del_node_list = []\n",
    "    while len(del_node_list) != num:\n",
    "        node = random.randint(0,99)\n",
    "        if start == node: continue\n",
    "        if target == node: continue\n",
    "        if node in del_node_list: continue\n",
    "        del_node_list.append(node)\n",
    "\n",
    "        print(node, end=\" \")\n",
    "\n",
    "        # plot obstacle\n",
    "        node_self = g.vert_dict[node]\n",
    "        plt.plot(node_self.row, node_self.col, \"ks\", markersize=40)\n",
    "\n",
    "        # delete the link from near node\n",
    "        try:\n",
    "            del g.vert_dict[node-1].adjacent[node_self]\n",
    "        except KeyError:\n",
    "            pass\n",
    "        try:\n",
    "            del g.vert_dict[node+1].adjacent[node_self]\n",
    "        except KeyError:\n",
    "            pass\n",
    "        try:\n",
    "            del g.vert_dict[node+10].adjacent[node_self]\n",
    "        except KeyError:\n",
    "            pass\n",
    "        try:\n",
    "            del g.vert_dict[node-10].adjacent[node_self]\n",
    "        except KeyError:\n",
    "            pass \n",
    "\n",
    "        # delete node itself\n",
    "        del g.vert_dict[node]"
   ]
  },
  {
   "cell_type": "code",
   "execution_count": 14,
   "metadata": {
    "id": "8hdC2rPGZu_2"
   },
   "outputs": [],
   "source": [
    "def a_star(g, start, target, num_obstacle):\n",
    "    try:\n",
    "        # Initialize for implementation\n",
    "        for i in g.vert_dict.values():\n",
    "            i.visited = False\n",
    "            i.g_score = inf\n",
    "            i.f_score = inf\n",
    "\n",
    "        start = g.vert_dict[start]\n",
    "        target = g.vert_dict[target]\n",
    "\n",
    "        # plot grid\n",
    "        plt.figure(figsize=(6,6))\n",
    "        plt.xlim(-1,10)\n",
    "        plt.ylim(-1,10)\n",
    "        plt.grid()\n",
    "        plt.plot(start.row, start.col, \"ko\")\n",
    "\n",
    "        # generate obstacle\n",
    "        obstacle_gen(num_obstacle, start.id, target.id)\n",
    "\n",
    "        start_time = time.time()\n",
    "\n",
    "        # Initialize start node\n",
    "        start.g_score = 0\n",
    "        start.f_score = start.g_score + heuristic(start, target)\n",
    "        start.prev = -1\n",
    "        g.closed_lst.append(start)\n",
    "\n",
    "        current = start\n",
    "        state = 0\n",
    "\n",
    "        while target not in g.closed_lst:        \n",
    "            state += 1\n",
    "            for near_vtx, near_vtx_cost in current.adjacent.items():\n",
    "                if near_vtx in g.closed_lst: continue \n",
    "                # update g_score\n",
    "                if near_vtx.g_score > current.g_score + near_vtx_cost:\n",
    "                    near_vtx.g_score = current.g_score + near_vtx_cost\n",
    "                # update f_score\n",
    "                new_f_score = current.g_score + near_vtx_cost + heuristic(near_vtx, target)\n",
    "                if near_vtx.f_score > new_f_score:\n",
    "                    near_vtx.f_score = new_f_score\n",
    "                    near_vtx.prev = current\n",
    "                    g.open_lst[near_vtx] = near_vtx.f_score\n",
    "\n",
    "            # Choose the next node\n",
    "            candidate = []\n",
    "            for v in g.open_lst.values():\n",
    "                candidate.append(v)\n",
    "            min_f_score = min(candidate)\n",
    "            for k,v in g.open_lst.items():\n",
    "                if v == min_f_score:\n",
    "                    current = k\n",
    "                    break\n",
    "            del g.open_lst[current]\n",
    "            g.closed_lst.append(current)\n",
    "            plt.plot(current.row, current.col, \"bo\")\n",
    "\n",
    "        execution_time = time.time() - start_time    \n",
    "\n",
    "        # shortest path\n",
    "        path_node = current\n",
    "        path = [path_node.id]\n",
    "        plt.plot(path_node.row, path_node.col, \"rs\")      \n",
    "        while path_node != start:\n",
    "            path_node = path_node.prev\n",
    "            path.append(path_node.id)\n",
    "            plt.plot(path_node.row, path_node.col, \"rs\")\n",
    "        path.reverse()   \n",
    "\n",
    "        print(\"\\n\")\n",
    "        print(\">>> Shortest Path from {} to {} is:\".format(start.id, target.id), path, \"\\n\"\n",
    "              \">>> distance cost is:\", current.f_score)\n",
    "        print(\">>> #iteration: \", state)    \n",
    "        print(\">>> execution time: \",execution_time)\n",
    "    \n",
    "    except ValueError:\n",
    "        print(\"\\n\")\n",
    "        print(\">>> Impossible to generate path\")\n",
    "        print(\">>> Try again\")"
   ]
  },
  {
   "cell_type": "code",
   "execution_count": 15,
   "metadata": {
    "colab": {
     "base_uri": "https://localhost:8080/",
     "height": 504
    },
    "id": "D2tv5cxPHoVJ",
    "outputId": "6f15ac8d-f70b-4319-f535-572d542a4554"
   },
   "outputs": [
    {
     "name": "stdout",
     "output_type": "stream",
     "text": [
      ">>> Obstacle nodes\n",
      "93 74 3 56 98 60 4 97 77 31 6 71 41 67 63 92 14 47 75 50 \n",
      "\n",
      ">>> Shortest Path from 0 to 99 is: [0, 1, 11, 12, 22, 23, 33, 34, 44, 45, 55, 65, 66, 76, 86, 87, 88, 89, 99] \n",
      ">>> distance cost is: 18.0\n",
      ">>> #iteration:  66\n",
      ">>> execution time:  0.08616232872009277\n"
     ]
    },
    {
     "data": {
      "image/png": "[encoded data removed]",
      "text/plain": [
       "<Figure size 432x432 with 1 Axes>"
      ]
     },
     "metadata": {
      "needs_background": "light"
     },
     "output_type": "display_data"
    }
   ],
   "source": [
    "# a_star(Graph, start, target, #obstacle)\n",
    "a_star(g, 0, 99, 20)"
   ]
  }
 ],
 "metadata": {
  "colab": {
   "collapsed_sections": [],
   "name": "A_star_with_grid.ipynb",
   "provenance": []
  },
  "kernelspec": {
   "display_name": "Python 3",
   "language": "python",
   "name": "python3"
  },
  "language_info": {
   "codemirror_mode": {
    "name": "ipython",
    "version": 3
   },
   "file_extension": ".py",
   "mimetype": "text/x-python",
   "name": "python",
   "nbconvert_exporter": "python",
   "pygments_lexer": "ipython3",
   "version": "3.6.9"
  }
 },
 "nbformat": 4,
 "nbformat_minor": 1
}
