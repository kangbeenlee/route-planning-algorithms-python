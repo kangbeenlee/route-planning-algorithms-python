{
 "cells": [
  {
   "cell_type": "code",
   "execution_count": 2,
   "metadata": {},
   "outputs": [
    {
     "name": "stdout",
     "output_type": "stream",
     "text": [
      "importing Jupyter notebook from Graph.ipynb\n"
     ]
    }
   ],
   "source": [
    "import import_ipynb\n",
    "import Graph\n",
    "import numpy as np\n",
    "import pandas as pd\n",
    "import time\n",
    "import heapq as hq\n",
    "from math import inf, sin, cos, asin, acos, pi, radians, atan2, sqrt"
   ]
  },
  {
   "cell_type": "code",
   "execution_count": 3,
   "metadata": {},
   "outputs": [],
   "source": [
    "# graph = Graph.make_graph('./roadnetwork_data/Ulsan_nodes.csv', './roadnetwork_data/Ulsan_edges.csv')"
   ]
  },
  {
   "cell_type": "code",
   "execution_count": 13,
   "metadata": {},
   "outputs": [],
   "source": [
    "# graph = Graph.make_graph('./roadnetwork_data/nodes.csv', './roadnetwork_data/links.csv')"
   ]
  },
  {
   "cell_type": "markdown",
   "metadata": {},
   "source": [
    "**Do not use below one!!**"
   ]
  },
  {
   "cell_type": "code",
   "execution_count": 5,
   "metadata": {},
   "outputs": [],
   "source": [
    "def heuristic(origin, destination):\n",
    "    lat1, lon1 = origin.lat, origin.lon\n",
    "    lat2, lon2 = destination.lat, destination.lon\n",
    "    radius = 6371  # km\n",
    "\n",
    "    dlat = radians(lat2 - lat1)\n",
    "    dlon = radians(lon2 - lon1)\n",
    "    a = (sin(dlat / 2) * sin(dlat / 2) +\n",
    "         cos(radians(lat1)) * cos(radians(lat2)) *\n",
    "         sin(dlon / 2) * sin(dlon / 2))\n",
    "    c = 2 * atan2(sqrt(a), sqrt(1 - a))\n",
    "    d = radius * c\n",
    "    \n",
    "    return d*1000"
   ]
  },
  {
   "cell_type": "code",
   "execution_count": 6,
   "metadata": {},
   "outputs": [],
   "source": [
    "# k = heuristic(graph.vert_dict[259986397], graph.vert_dict[9135501698])\n",
    "# print(k)"
   ]
  },
  {
   "cell_type": "code",
   "execution_count": 7,
   "metadata": {},
   "outputs": [],
   "source": [
    "def astar(g, start, target):\n",
    "    start_time = time.time()\n",
    "\n",
    "    # Initialize for implementation\n",
    "    open_lst = []\n",
    "    closed_lst = []\n",
    "    hq.heapify(open_lst)\n",
    "        \n",
    "    for i in g.vert_dict.values():\n",
    "        i.visited = False\n",
    "        i.g_score = inf\n",
    "        i.f_score = inf\n",
    "        i.prev = None\n",
    "        i.heuristic = None\n",
    "        i.in_open_lst = False\n",
    "        \n",
    "    start = g.vert_dict[start]\n",
    "    target = g.vert_dict[target]    \n",
    "\n",
    "    # Initialize start node\n",
    "    start.g_score = 0\n",
    "    start.f_score = heuristic(start, target)\n",
    "    start.prev = -1\n",
    "    start.visited = True\n",
    "    closed_lst.append(start)\n",
    "    \n",
    "    current = start\n",
    "    state = 1\n",
    "\n",
    "    while target.visited != True:\n",
    "        state += 1\n",
    "        for near_vtx, near_vtx_cost in current.adjacent.items():\n",
    "            if near_vtx.visited == True: continue\n",
    "            # update g_score & f_score\n",
    "            new_g_score = current.g_score + near_vtx_cost\n",
    "            if near_vtx.g_score > new_g_score:\n",
    "                near_vtx.g_score = new_g_score\n",
    "                near_vtx.f_score = near_vtx.g_score + heuristic(near_vtx, target)\n",
    "                near_vtx.prev = current\n",
    "                if near_vtx.in_open_lst == False:\n",
    "                    near_vtx.in_open_lst = True\n",
    "                    hq.heappush(open_lst, (near_vtx.f_score,near_vtx))\n",
    "                \n",
    "        # By heappop current node is deleted from open list\n",
    "        nxt_node = hq.heappop(open_lst)\n",
    "        # Choose the next node\n",
    "        current = nxt_node[1]\n",
    "        current.visited = True\n",
    "        closed_lst.append(current)\n",
    "\n",
    "    # shortest path\n",
    "    path_node = current\n",
    "    path = [path_node.id]    \n",
    "    while path_node != start:\n",
    "        path_node = path_node.prev\n",
    "        path.append(path_node.id)\n",
    "    path.reverse()\n",
    "\n",
    "    execution_time = time.time() - start_time    \n",
    "\n",
    "    print(\"[Astar algorithm]\")\n",
    "    print(\">>> distance cost is:\", current.f_score)\n",
    "    print(\">>> #iteration: \", state)\n",
    "    print(\">>> #expanded nodes:\", len(closed_lst))\n",
    "    print(\">>> execution time: \", execution_time)\n",
    "    \n",
    "    return path, closed_lst"
   ]
  }
 ],
 "metadata": {
  "kernelspec": {
   "display_name": "Python 3.8.10 64-bit",
   "language": "python",
   "name": "python3"
  },
  "language_info": {
   "codemirror_mode": {
    "name": "ipython",
    "version": 3
   },
   "file_extension": ".py",
   "mimetype": "text/x-python",
   "name": "python",
   "nbconvert_exporter": "python",
   "pygments_lexer": "ipython3",
   "version": "3.8.10"
  },
  "vscode": {
   "interpreter": {
    "hash": "916dbcbb3f70747c44a77c7bcd40155683ae19c65e1c03b4aa3499c5328201f1"
   }
  }
 },
 "nbformat": 4,
 "nbformat_minor": 2
}
