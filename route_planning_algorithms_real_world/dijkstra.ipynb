{
 "cells": [
  {
   "cell_type": "code",
   "execution_count": null,
   "metadata": {},
   "outputs": [],
   "source": [
    "import import_ipynb\n",
    "import Graph\n",
    "import numpy as np\n",
    "import pandas as pd\n",
    "import time\n",
    "from math import inf\n",
    "import heapq as hq"
   ]
  },
  {
   "cell_type": "code",
   "execution_count": null,
   "metadata": {},
   "outputs": [],
   "source": [
    "graph = Graph.make_graph('./roadnetwork_data/Ulsan_nodes.csv', './roadnetwork_data/Ulsan_edges.csv')"
   ]
  },
  {
   "cell_type": "code",
   "execution_count": null,
   "metadata": {},
   "outputs": [],
   "source": [
    "# Dijkstra with Priority queue\n",
    "def dijkstra(g, start, target):\n",
    "    start_time = time.time()\n",
    "\n",
    "    # Initialize for implementation\n",
    "    open_lst = []\n",
    "    closed_lst = []\n",
    "    hq.heapify(open_lst)\n",
    "    \n",
    "    for i in g.vert_dict.values():\n",
    "        i.visited = False\n",
    "        i.distance = inf\n",
    "        i.prev = None\n",
    "        i.in_open_lst = False\n",
    "        \n",
    "    start = g.vert_dict[start]\n",
    "    target = g.vert_dict[target]\n",
    "\n",
    "    # Initialize start node\n",
    "    start.distance = 0\n",
    "    start.prev = -1\n",
    "    start.visited = True\n",
    "    closed_lst.append(start)\n",
    "\n",
    "    current = start\n",
    "    state = 1\n",
    "\n",
    "    while target.visited != True:\n",
    "        state += 1\n",
    "        for near_vtx, near_vtx_cost in current.adjacent.items():\n",
    "            if near_vtx.visited == True: continue\n",
    "            new_distance = current.distance + near_vtx_cost\n",
    "            if near_vtx.distance > new_distance:\n",
    "                near_vtx.distance = new_distance # open_lst에 있을 경우 distance값 update만 진행\n",
    "                near_vtx.prev = current\n",
    "                if near_vtx.in_open_lst == False:\n",
    "                    near_vtx.in_open_lst = True\n",
    "                    hq.heappush(open_lst, (near_vtx.distance, near_vtx)) # open_lst에 없을 경우에만 집어 넣기\n",
    "        \n",
    "        # By heappop current node is deleted from open list\n",
    "        nxt_node = hq.heappop(open_lst)\n",
    "        # Choose the next node\n",
    "        current = nxt_node[1]\n",
    "        current.visited = True\n",
    "        closed_lst.append(current)\n",
    "        \n",
    "    # shortest path\n",
    "    path_node = current\n",
    "    path = [path_node.id]    \n",
    "    while path_node != start:\n",
    "        path_node = path_node.prev\n",
    "        path.append(path_node.id)\n",
    "    path.reverse()\n",
    "\n",
    "    execution_time = time.time() - start_time\n",
    "\n",
    "    print(\"[Dijkstra with priority queue]\")\n",
    "    print(\">>> distance cost is:\", current.distance)\n",
    "    print(\">>> #iteration:\", state)\n",
    "    print(\">>> #expanded nodes:\", len(closed_lst))\n",
    "    print(\">>> execution time: \",execution_time)\n",
    "    \n",
    "    return path, closed_lst"
   ]
  },
  {
   "cell_type": "code",
   "execution_count": null,
   "metadata": {},
   "outputs": [],
   "source": [
    "path, closed_lst = dijkstra(graph, 259986397, 9135501698)"
   ]
  },
  {
   "cell_type": "code",
   "execution_count": null,
   "metadata": {},
   "outputs": [],
   "source": [
    "# for i in graph.vert_dict[259986397].adjacent:\n",
    "#     print(i.id)"
   ]
  },
  {
   "cell_type": "code",
   "execution_count": null,
   "metadata": {},
   "outputs": [],
   "source": [
    "# path"
   ]
  },
  {
   "cell_type": "code",
   "execution_count": null,
   "metadata": {},
   "outputs": [],
   "source": [
    "# ans = np.array(path)\n",
    "# ans.size"
   ]
  }
 ],
 "metadata": {
  "kernelspec": {
   "display_name": "Python 3",
   "language": "python",
   "name": "python3"
  },
  "language_info": {
   "codemirror_mode": {
    "name": "ipython",
    "version": 3
   },
   "file_extension": ".py",
   "mimetype": "text/x-python",
   "name": "python",
   "nbconvert_exporter": "python",
   "pygments_lexer": "ipython3",
   "version": "3.6.9"
  }
 },
 "nbformat": 4,
 "nbformat_minor": 5
}
