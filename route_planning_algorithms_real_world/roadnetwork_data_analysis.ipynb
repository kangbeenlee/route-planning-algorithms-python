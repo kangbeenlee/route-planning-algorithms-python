{
 "cells": [
  {
   "cell_type": "code",
   "execution_count": 1,
   "metadata": {},
   "outputs": [],
   "source": [
    "import pandas as pd\n",
    "import numpy as np\n",
    "import time\n",
    "from math import inf"
   ]
  },
  {
   "cell_type": "code",
   "execution_count": 14,
   "metadata": {},
   "outputs": [],
   "source": [
    "pd.set_option('display.max_columns',10)\n",
    "pd.set_option('display.max_colwidth', 20)"
   ]
  },
  {
   "cell_type": "markdown",
   "metadata": {},
   "source": [
    "### For manhattan road network"
   ]
  },
  {
   "cell_type": "code",
   "execution_count": 15,
   "metadata": {},
   "outputs": [],
   "source": [
    "link_data = pd.read_csv('./roadnetwork_data/links.csv')\n",
    "node_data = pd.read_csv('./roadnetwork_data/nodes.csv')"
   ]
  },
  {
   "cell_type": "markdown",
   "metadata": {},
   "source": [
    "### For ulsan road network"
   ]
  },
  {
   "cell_type": "code",
   "execution_count": 16,
   "metadata": {},
   "outputs": [],
   "source": [
    "# link_data = pd.read_csv('./roadnetwork_data/Ulsan_edges.csv')\n",
    "# node_data = pd.read_csv('./roadnetwork_data/Ulsan_nodes.csv')"
   ]
  },
  {
   "cell_type": "code",
   "execution_count": 17,
   "metadata": {},
   "outputs": [
    {
     "name": "stdout",
     "output_type": "stream",
     "text": [
      "95581\n"
     ]
    }
   ],
   "source": [
    "print(len(node_data))"
   ]
  },
  {
   "cell_type": "code",
   "execution_count": 18,
   "metadata": {},
   "outputs": [
    {
     "data": {
      "text/plain": [
       "42467259"
      ]
     },
     "execution_count": 18,
     "metadata": {},
     "output_type": "execute_result"
    }
   ],
   "source": [
    "node_data['node_id'][2]"
   ]
  },
  {
   "cell_type": "code",
   "execution_count": 19,
   "metadata": {},
   "outputs": [
    {
     "data": {
      "text/html": [
       "<div>\n",
       "<style scoped>\n",
       "    .dataframe tbody tr th:only-of-type {\n",
       "        vertical-align: middle;\n",
       "    }\n",
       "\n",
       "    .dataframe tbody tr th {\n",
       "        vertical-align: top;\n",
       "    }\n",
       "\n",
       "    .dataframe thead th {\n",
       "        text-align: right;\n",
       "    }\n",
       "</style>\n",
       "<table border=\"1\" class=\"dataframe\">\n",
       "  <thead>\n",
       "    <tr style=\"text-align: right;\">\n",
       "      <th></th>\n",
       "      <th>link_id</th>\n",
       "      <th>begin_node_id</th>\n",
       "      <th>end_node_id</th>\n",
       "      <th>begin_angle</th>\n",
       "      <th>end_angle</th>\n",
       "      <th>...</th>\n",
       "      <th>endX</th>\n",
       "      <th>endY</th>\n",
       "      <th>osm_changeset</th>\n",
       "      <th>birth_timestamp</th>\n",
       "      <th>death_timestamp</th>\n",
       "    </tr>\n",
       "  </thead>\n",
       "  <tbody>\n",
       "    <tr>\n",
       "      <th>0</th>\n",
       "      <td>1</td>\n",
       "      <td>103235840</td>\n",
       "      <td>103225947</td>\n",
       "      <td>-161.51</td>\n",
       "      <td>16.99</td>\n",
       "      <td>...</td>\n",
       "      <td>-74.021994</td>\n",
       "      <td>40.883384</td>\n",
       "      <td>16353009</td>\n",
       "      <td>1405267167641</td>\n",
       "      <td>40000000000000</td>\n",
       "    </tr>\n",
       "    <tr>\n",
       "      <th>1</th>\n",
       "      <td>2</td>\n",
       "      <td>42516422</td>\n",
       "      <td>42516427</td>\n",
       "      <td>175.46</td>\n",
       "      <td>-4.68</td>\n",
       "      <td>...</td>\n",
       "      <td>-73.932013</td>\n",
       "      <td>40.639616</td>\n",
       "      <td>19443546</td>\n",
       "      <td>1405267167641</td>\n",
       "      <td>40000000000000</td>\n",
       "    </tr>\n",
       "    <tr>\n",
       "      <th>2</th>\n",
       "      <td>3</td>\n",
       "      <td>42516422</td>\n",
       "      <td>42516418</td>\n",
       "      <td>-4.60</td>\n",
       "      <td>175.40</td>\n",
       "      <td>...</td>\n",
       "      <td>-73.932509</td>\n",
       "      <td>40.644252</td>\n",
       "      <td>19443546</td>\n",
       "      <td>1405267167641</td>\n",
       "      <td>40000000000000</td>\n",
       "    </tr>\n",
       "    <tr>\n",
       "      <th>3</th>\n",
       "      <td>4</td>\n",
       "      <td>103235530</td>\n",
       "      <td>103235525</td>\n",
       "      <td>-103.43</td>\n",
       "      <td>82.40</td>\n",
       "      <td>...</td>\n",
       "      <td>-74.143464</td>\n",
       "      <td>40.948718</td>\n",
       "      <td>14802365</td>\n",
       "      <td>1405267167641</td>\n",
       "      <td>40000000000000</td>\n",
       "    </tr>\n",
       "    <tr>\n",
       "      <th>4</th>\n",
       "      <td>5</td>\n",
       "      <td>42762376</td>\n",
       "      <td>42756156</td>\n",
       "      <td>-23.92</td>\n",
       "      <td>156.25</td>\n",
       "      <td>...</td>\n",
       "      <td>-73.845749</td>\n",
       "      <td>40.879508</td>\n",
       "      <td>8219326</td>\n",
       "      <td>1405267167641</td>\n",
       "      <td>40000000000000</td>\n",
       "    </tr>\n",
       "  </tbody>\n",
       "</table>\n",
       "<p>5 rows × 16 columns</p>\n",
       "</div>"
      ],
      "text/plain": [
       "   link_id  begin_node_id  end_node_id  begin_angle  end_angle  ...  \\\n",
       "0        1      103235840    103225947      -161.51      16.99  ...   \n",
       "1        2       42516422     42516427       175.46      -4.68  ...   \n",
       "2        3       42516422     42516418        -4.60     175.40  ...   \n",
       "3        4      103235530    103235525      -103.43      82.40  ...   \n",
       "4        5       42762376     42756156       -23.92     156.25  ...   \n",
       "\n",
       "        endX       endY osm_changeset  birth_timestamp  death_timestamp  \n",
       "0 -74.021994  40.883384      16353009    1405267167641   40000000000000  \n",
       "1 -73.932013  40.639616      19443546    1405267167641   40000000000000  \n",
       "2 -73.932509  40.644252      19443546    1405267167641   40000000000000  \n",
       "3 -74.143464  40.948718      14802365    1405267167641   40000000000000  \n",
       "4 -73.845749  40.879508       8219326    1405267167641   40000000000000  \n",
       "\n",
       "[5 rows x 16 columns]"
      ]
     },
     "execution_count": 19,
     "metadata": {},
     "output_type": "execute_result"
    }
   ],
   "source": [
    "link_data.head()"
   ]
  },
  {
   "cell_type": "code",
   "execution_count": 20,
   "metadata": {},
   "outputs": [
    {
     "data": {
      "text/html": [
       "<div>\n",
       "<style scoped>\n",
       "    .dataframe tbody tr th:only-of-type {\n",
       "        vertical-align: middle;\n",
       "    }\n",
       "\n",
       "    .dataframe tbody tr th {\n",
       "        vertical-align: top;\n",
       "    }\n",
       "\n",
       "    .dataframe thead th {\n",
       "        text-align: right;\n",
       "    }\n",
       "</style>\n",
       "<table border=\"1\" class=\"dataframe\">\n",
       "  <thead>\n",
       "    <tr style=\"text-align: right;\">\n",
       "      <th></th>\n",
       "      <th>node_id</th>\n",
       "      <th>is_complete</th>\n",
       "      <th>num_in_links</th>\n",
       "      <th>num_out_links</th>\n",
       "      <th>osm_traffic_controller</th>\n",
       "      <th>...</th>\n",
       "      <th>ycoord</th>\n",
       "      <th>osm_changeset</th>\n",
       "      <th>birth_timestamp</th>\n",
       "      <th>death_timestamp</th>\n",
       "      <th>grid_region_id</th>\n",
       "    </tr>\n",
       "  </thead>\n",
       "  <tbody>\n",
       "    <tr>\n",
       "      <th>95576</th>\n",
       "      <td>42467298</td>\n",
       "      <td>t</td>\n",
       "      <td>3</td>\n",
       "      <td>3</td>\n",
       "      <td>NaN</td>\n",
       "      <td>...</td>\n",
       "      <td>40.653978</td>\n",
       "      <td>3218174</td>\n",
       "      <td>1405267167641</td>\n",
       "      <td>40000000000000</td>\n",
       "      <td>185</td>\n",
       "    </tr>\n",
       "    <tr>\n",
       "      <th>95577</th>\n",
       "      <td>42467294</td>\n",
       "      <td>t</td>\n",
       "      <td>4</td>\n",
       "      <td>3</td>\n",
       "      <td>NaN</td>\n",
       "      <td>...</td>\n",
       "      <td>40.653777</td>\n",
       "      <td>3218174</td>\n",
       "      <td>1405267167641</td>\n",
       "      <td>40000000000000</td>\n",
       "      <td>185</td>\n",
       "    </tr>\n",
       "    <tr>\n",
       "      <th>95578</th>\n",
       "      <td>42467292</td>\n",
       "      <td>t</td>\n",
       "      <td>2</td>\n",
       "      <td>3</td>\n",
       "      <td>NaN</td>\n",
       "      <td>...</td>\n",
       "      <td>40.653575</td>\n",
       "      <td>3218174</td>\n",
       "      <td>1405267167641</td>\n",
       "      <td>40000000000000</td>\n",
       "      <td>185</td>\n",
       "    </tr>\n",
       "    <tr>\n",
       "      <th>95579</th>\n",
       "      <td>42467278</td>\n",
       "      <td>t</td>\n",
       "      <td>3</td>\n",
       "      <td>2</td>\n",
       "      <td>NaN</td>\n",
       "      <td>...</td>\n",
       "      <td>40.657012</td>\n",
       "      <td>3218174</td>\n",
       "      <td>1405267167641</td>\n",
       "      <td>40000000000000</td>\n",
       "      <td>205</td>\n",
       "    </tr>\n",
       "    <tr>\n",
       "      <th>95580</th>\n",
       "      <td>42467274</td>\n",
       "      <td>t</td>\n",
       "      <td>3</td>\n",
       "      <td>3</td>\n",
       "      <td>NaN</td>\n",
       "      <td>...</td>\n",
       "      <td>40.656552</td>\n",
       "      <td>3218174</td>\n",
       "      <td>1405267167641</td>\n",
       "      <td>40000000000000</td>\n",
       "      <td>205</td>\n",
       "    </tr>\n",
       "  </tbody>\n",
       "</table>\n",
       "<p>5 rows × 11 columns</p>\n",
       "</div>"
      ],
      "text/plain": [
       "        node_id is_complete  num_in_links  num_out_links  \\\n",
       "95576  42467298           t             3              3   \n",
       "95577  42467294           t             4              3   \n",
       "95578  42467292           t             2              3   \n",
       "95579  42467278           t             3              2   \n",
       "95580  42467274           t             3              3   \n",
       "\n",
       "       osm_traffic_controller  ...     ycoord  osm_changeset  birth_timestamp  \\\n",
       "95576                  NaN     ...  40.653978        3218174    1405267167641   \n",
       "95577                  NaN     ...  40.653777        3218174    1405267167641   \n",
       "95578                  NaN     ...  40.653575        3218174    1405267167641   \n",
       "95579                  NaN     ...  40.657012        3218174    1405267167641   \n",
       "95580                  NaN     ...  40.656552        3218174    1405267167641   \n",
       "\n",
       "       death_timestamp  grid_region_id  \n",
       "95576   40000000000000             185  \n",
       "95577   40000000000000             185  \n",
       "95578   40000000000000             185  \n",
       "95579   40000000000000             205  \n",
       "95580   40000000000000             205  \n",
       "\n",
       "[5 rows x 11 columns]"
      ]
     },
     "execution_count": 20,
     "metadata": {},
     "output_type": "execute_result"
    }
   ],
   "source": [
    "node_data.tail()"
   ]
  },
  {
   "cell_type": "code",
   "execution_count": 21,
   "metadata": {},
   "outputs": [
    {
     "name": "stdout",
     "output_type": "stream",
     "text": [
      "#nodes: 95581\n",
      "#links: 260855\n"
     ]
    }
   ],
   "source": [
    "print('#nodes:', len(node_data))\n",
    "print('#links:', len(link_data))"
   ]
  }
 ],
 "metadata": {
  "kernelspec": {
   "display_name": "Python 3",
   "language": "python",
   "name": "python3"
  },
  "language_info": {
   "codemirror_mode": {
    "name": "ipython",
    "version": 3
   },
   "file_extension": ".py",
   "mimetype": "text/x-python",
   "name": "python",
   "nbconvert_exporter": "python",
   "pygments_lexer": "ipython3",
   "version": "3.6.9"
  }
 },
 "nbformat": 4,
 "nbformat_minor": 5
}
