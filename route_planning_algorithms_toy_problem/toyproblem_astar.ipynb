{
 "cells": [
  {
   "cell_type": "code",
   "execution_count": 13,
   "metadata": {
    "id": "obnSqpaEhSsV"
   },
   "outputs": [],
   "source": [
    "import numpy as np\n",
    "import time\n",
    "from math import inf\n",
    "import heapq as hq"
   ]
  },
  {
   "cell_type": "code",
   "execution_count": 21,
   "metadata": {
    "id": "carqmy5WgXBt"
   },
   "outputs": [],
   "source": [
    "# Classic Dijkstra\n",
    "class Vertex:\n",
    "    def __init__(self, node):\n",
    "        self.id = node\n",
    "        self.adjacent = {}\n",
    "        self.g_score = inf\n",
    "        self.f_score = inf\n",
    "        self.prev = None\n",
    "        self.heuristic = None\n",
    "    \n",
    "    def add_neighbor(self, neighbor, weight=0):\n",
    "        self.adjacent[neighbor] = weight\n",
    "        \n",
    "    def get_weight(self, neighbor):\n",
    "        return self.adjacent[neighbor]\n",
    "    \n",
    "    def __lt__(self, other):\n",
    "        self.f_score < other.f_score\n",
    "    \n",
    "class Graph:\n",
    "    def __init__(self):\n",
    "        self.vert_dict = {}\n",
    "        self.open_lst = {}\n",
    "        \n",
    "    def add_vertex(self, node):\n",
    "        new_node = Vertex(node)\n",
    "        self.vert_dict[node] = new_node\n",
    "    \n",
    "    def add_edges(self, frm, to, cost=0):\n",
    "        if frm not in self.vert_dict:\n",
    "            self.add_vertex(frm)\n",
    "        if to not in self.vert_dict:\n",
    "            self.add_vertex(to)\n",
    "        self.vert_dict[frm].add_neighbor(self.vert_dict[to], cost)\n",
    "        self.vert_dict[to].add_neighbor(self.vert_dict[frm], cost)\n",
    "\n",
    "    def add_heuristic(self, node, heuristic_cost):\n",
    "        self.vert_dict[node].heuristic = heuristic_cost\n",
    " \n",
    "# define graph        \n",
    "g = Graph()\n",
    "\n",
    "g.add_vertex('a')\n",
    "g.add_vertex('b')\n",
    "g.add_vertex('c')\n",
    "g.add_vertex('d')\n",
    "g.add_vertex('e')\n",
    "\n",
    "g.add_edges('a', 'b', 1)\n",
    "g.add_edges('a', 'c', 3)\n",
    "g.add_edges('a', 'e', 3)\n",
    "g.add_edges('b', 'c', 2)\n",
    "g.add_edges('b', 'd', 5)\n",
    "g.add_edges('c', 'd', 3)\n",
    "g.add_edges('d', 'e', 2)\n",
    "\n",
    "g.add_heuristic('a', 3)\n",
    "g.add_heuristic('b', 3)\n",
    "g.add_heuristic('c', 2)\n",
    "g.add_heuristic('d', 0)\n",
    "g.add_heuristic('e', 1)"
   ]
  },
  {
   "cell_type": "code",
   "execution_count": 22,
   "metadata": {
    "colab": {
     "base_uri": "https://localhost:8080/"
    },
    "id": "ZfESSXHuektz",
    "outputId": "4bb8831a-ead0-4408-f924-a8d07dfecd6d"
   },
   "outputs": [
    {
     "data": {
      "text/plain": [
       "{'a': <__main__.vertex_maker at 0x7fe955a6be48>,\n",
       " 'b': <__main__.vertex_maker at 0x7fe955a6d048>,\n",
       " 'c': <__main__.vertex_maker at 0x7fe955a6d080>,\n",
       " 'd': <__main__.vertex_maker at 0x7fe955a6d0b8>,\n",
       " 'e': <__main__.vertex_maker at 0x7fe955a6d0f0>}"
      ]
     },
     "execution_count": 22,
     "metadata": {},
     "output_type": "execute_result"
    }
   ],
   "source": [
    "g.vert_dict"
   ]
  },
  {
   "cell_type": "code",
   "execution_count": 31,
   "metadata": {
    "id": "8hdC2rPGZu_2"
   },
   "outputs": [],
   "source": [
    "def a_star(g, start, target):\n",
    "    # Initialize for implementation\n",
    "    open_lst = []\n",
    "    hq.heapify(open_lst)\n",
    "    \n",
    "    for i in g.vert_dict.values():\n",
    "        i.visited = False\n",
    "        i.g_score = inf\n",
    "        i.f_score = inf\n",
    "        \n",
    "    start_time = time.time()\n",
    "    start = g.vert_dict[start]\n",
    "    target = g.vert_dict[target]\n",
    "\n",
    "    # Initialize start node\n",
    "    start.g_score = 0\n",
    "    start.f_score = start.g_score + start.heuristic\n",
    "    start.prev = -1\n",
    "    start.visited = True\n",
    "    \n",
    "    current = start\n",
    "\n",
    "    while target.visited != True:        \n",
    "        for near_vtx, near_vtx_cost in current.adjacent.items():\n",
    "            if near_vtx == True: continue \n",
    "            # update g_score\n",
    "#             if near_vtx.g_score > current.g_score + near_vtx_cost:\n",
    "#                 near_vtx.g_score = current.g_score + near_vtx_cost\n",
    "#                 near_vtx.prev = current\n",
    "\n",
    "#             # update f_score\n",
    "#             new_f_score = current.g_score + near_vtx_cost + near_vtx.heuristic\n",
    "#             if near_vtx.f_score > new_f_score:\n",
    "#                 near_vtx.f_score = new_f_score\n",
    "# #                 near_vtx.prev = current\n",
    "#                 hq.heappush(open_lst, (near_vtx.f_score, near_vtx))\n",
    "\n",
    "            new_g_score = current.g_score + near_vtx_cost\n",
    "            if near_vtx.g_score > new_g_score:\n",
    "                near_vtx.g_score = new_g_score\n",
    "                near_vtx.f_score = near_vtx.g_score + near_vtx.heuristic\n",
    "                near_vtx.prev = current\n",
    "                hq.heappush(open_lst, (near_vtx.f_score,near_vtx))\n",
    "\n",
    "        # Choose the next node\n",
    "        nxt_node = hq.heappop(open_lst)\n",
    "        # Choose the next node\n",
    "        current = nxt_node[1]\n",
    "        current.visited = True\n",
    "    \n",
    "    execution_time = time.time() - start_time\n",
    "    \n",
    "    # shortest path\n",
    "    path = [target.id]\n",
    "    while target != start:\n",
    "        target = target.prev\n",
    "        path.append(target.id)\n",
    "    path.reverse()\n",
    "\n",
    "    print(\">>> Shortest Path from {} to {} is:\".format(start.id, target.id), path, \"\\n\"\n",
    "          \">>> distance cost is:\", current.g_score)\n",
    "    print(\">>> execution time: \",execution_time)"
   ]
  },
  {
   "cell_type": "code",
   "execution_count": 32,
   "metadata": {},
   "outputs": [
    {
     "name": "stdout",
     "output_type": "stream",
     "text": [
      ">>> Shortest Path from a to a is: ['a', 'e', 'd'] \n",
      ">>> distance cost is: 5\n",
      ">>> execution time:  1.5735626220703125e-05\n"
     ]
    }
   ],
   "source": [
    "a_star(g, 'a', 'd')"
   ]
  },
  {
   "cell_type": "code",
   "execution_count": 12,
   "metadata": {
    "colab": {
     "base_uri": "https://localhost:8080/"
    },
    "id": "D2tv5cxPHoVJ",
    "outputId": "c11379a6-c871-434b-d5a4-d88fae32ec99"
   },
   "outputs": [
    {
     "name": "stdout",
     "output_type": "stream",
     "text": [
      ">>> Shortest Path from a to a is: ['a', 'e', 'd'] \n",
      ">>> distance cost is: 3\n",
      ">>> execution time:  1.430511474609375e-06\n"
     ]
    }
   ],
   "source": [
    "a_star(g, 'a', 'd')"
   ]
  }
 ],
 "metadata": {
  "colab": {
   "collapsed_sections": [],
   "name": "A_star.ipynb",
   "provenance": []
  },
  "kernelspec": {
   "display_name": "Python 3.8.10 64-bit",
   "language": "python",
   "name": "python3"
  },
  "language_info": {
   "codemirror_mode": {
    "name": "ipython",
    "version": 3
   },
   "file_extension": ".py",
   "mimetype": "text/x-python",
   "name": "python",
   "nbconvert_exporter": "python",
   "pygments_lexer": "ipython3",
   "version": "3.8.10"
  },
  "vscode": {
   "interpreter": {
    "hash": "916dbcbb3f70747c44a77c7bcd40155683ae19c65e1c03b4aa3499c5328201f1"
   }
  }
 },
 "nbformat": 4,
 "nbformat_minor": 1
}
